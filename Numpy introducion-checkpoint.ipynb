{
 "cells": [
  {
   "cell_type": "code",
   "execution_count": 7,
   "id": "1234ee6c-24f4-479a-8cb1-d54dfd41fc21",
   "metadata": {},
   "outputs": [],
   "source": [
    "import numpy as np   #importing numpy into jupyter files"
   ]
  },
  {
   "cell_type": "markdown",
   "id": "8889819c-40c1-45ba-a808-042f8012a913",
   "metadata": {},
   "source": [
    "* numpy is stand for numerical python \n",
    "* used to create and manupulate arrays\n",
    "* arrays in numpy is called as ndarray-n dimention array\n",
    "* numpy has inbuild function to create and manupulate array like-\n",
    "* aggriate functions, statistical functions,random functions"
   ]
  },
  {
   "cell_type": "code",
   "execution_count": 8,
   "id": "6538a890-1b6c-45f7-8b22-eddad9de99e5",
   "metadata": {},
   "outputs": [
    {
     "data": {
      "text/plain": [
       "array([1, 2, 3, 4, 5])"
      ]
     },
     "execution_count": 8,
     "metadata": {},
     "output_type": "execute_result"
    }
   ],
   "source": [
    "# array using list\n",
    "ls = [1,2,3,4,5]\n",
    "arr = np.array(ls)\n",
    "arr"
   ]
  },
  {
   "cell_type": "markdown",
   "id": "6f93f2e8-6944-4bf7-ad05-dd0d43f12372",
   "metadata": {},
   "source": [
    "* why we use array if we have list\n",
    " \n",
    "* List\n",
    "* Python list is not a common list,it is a linked list\n",
    "* Thats why the element of list are not stored at single location\n",
    "* In this scenario, the element searching is not that much easy\n",
    "* List contains all type of data in single list , so it is heterogenious\n",
    "\n",
    "* Array\n",
    "* Stored only one type of data, so it is homogenius\n",
    "* Array stored alll the element at single memory location  one by one\n",
    "* It is called as contigiousmemory allocation\n",
    "* Array works fast in searching\n",
    "* Array operation are elementwise"
   ]
  },
  {
   "cell_type": "code",
   "execution_count": 9,
   "id": "71427b85-076b-4728-842c-46b1932087c3",
   "metadata": {},
   "outputs": [
    {
     "data": {
      "text/plain": [
       "array([1, 2, 3, 4, 5])"
      ]
     },
     "execution_count": 9,
     "metadata": {},
     "output_type": "execute_result"
    }
   ],
   "source": [
    "arr"
   ]
  },
  {
   "cell_type": "code",
   "execution_count": 10,
   "id": "95c38194-e0a3-4a3e-8492-d779184dc990",
   "metadata": {},
   "outputs": [
    {
     "data": {
      "text/plain": [
       "[1, 2, 3, 4, 5]"
      ]
     },
     "execution_count": 10,
     "metadata": {},
     "output_type": "execute_result"
    }
   ],
   "source": [
    "ls"
   ]
  },
  {
   "cell_type": "code",
   "execution_count": 11,
   "id": "ed8b8459-bd9e-4774-b0fa-0d12e999e0a4",
   "metadata": {},
   "outputs": [
    {
     "data": {
      "text/plain": [
       "[1, 2, 3, 4, 5, 1, 2, 3, 4, 5]"
      ]
     },
     "execution_count": 11,
     "metadata": {},
     "output_type": "execute_result"
    }
   ],
   "source": [
    "ls*2"
   ]
  },
  {
   "cell_type": "code",
   "execution_count": 12,
   "id": "5ed21592-0bab-4172-a407-03313fbc7b5c",
   "metadata": {},
   "outputs": [
    {
     "data": {
      "text/plain": [
       "array([ 2,  4,  6,  8, 10])"
      ]
     },
     "execution_count": 12,
     "metadata": {},
     "output_type": "execute_result"
    }
   ],
   "source": [
    "arr*2"
   ]
  },
  {
   "cell_type": "code",
   "execution_count": 13,
   "id": "b465b1d5-b2be-4504-9c82-572f16200a3d",
   "metadata": {},
   "outputs": [
    {
     "data": {
      "text/plain": [
       "array([ 1,  4,  9, 16, 25])"
      ]
     },
     "execution_count": 13,
     "metadata": {},
     "output_type": "execute_result"
    }
   ],
   "source": [
    "arr ** 2"
   ]
  },
  {
   "cell_type": "code",
   "execution_count": 15,
   "id": "4b04f1ad-1f4c-4bdc-987c-901e7c5434b8",
   "metadata": {},
   "outputs": [
    {
     "data": {
      "text/plain": [
       "[1, 4, 9, 16, 25]"
      ]
     },
     "execution_count": 15,
     "metadata": {},
     "output_type": "execute_result"
    }
   ],
   "source": [
    "sq_ls = []\n",
    "for i in ls:\n",
    "    sq_ls.append(i**2)\n",
    "sq_ls"
   ]
  },
  {
   "cell_type": "code",
   "execution_count": 17,
   "id": "35c425e9-3345-4d59-adf4-83c7f0454c97",
   "metadata": {},
   "outputs": [
    {
     "data": {
      "text/plain": [
       "[1, 4, 9, 16, 25]"
      ]
     },
     "execution_count": 17,
     "metadata": {},
     "output_type": "execute_result"
    }
   ],
   "source": [
    "[x**2 for x in ls] # list comprehsion"
   ]
  },
  {
   "cell_type": "code",
   "execution_count": 18,
   "id": "2b1321e3-af25-48a3-8032-399087594b68",
   "metadata": {},
   "outputs": [
    {
     "data": {
      "text/plain": [
       "array(['rani', 'moni', 'goni', 'soni'], dtype='<U4')"
      ]
     },
     "execution_count": 18,
     "metadata": {},
     "output_type": "execute_result"
    }
   ],
   "source": [
    "arr2 = np.array([\"rani\",\"moni\",\"goni\",\"soni\"])\n",
    "arr2"
   ]
  },
  {
   "cell_type": "code",
   "execution_count": 19,
   "id": "121011ee-1a80-43f4-9653-a05d0deaf80b",
   "metadata": {},
   "outputs": [
    {
     "data": {
      "text/plain": [
       "array(['rani', 'moni', '1', '0'], dtype='<U11')"
      ]
     },
     "execution_count": 19,
     "metadata": {},
     "output_type": "execute_result"
    }
   ],
   "source": [
    "arr3 = np.array([\"rani\",\"moni\",1,0])\n",
    "arr3"
   ]
  },
  {
   "cell_type": "code",
   "execution_count": 20,
   "id": "f086df5e-f06a-4bea-9927-e5639f2e97b8",
   "metadata": {},
   "outputs": [
    {
     "data": {
      "text/plain": [
       "array([  1,  51, 101, 151, 201, 251, 301, 351, 401, 451, 501, 551, 601,\n",
       "       651, 701, 751, 801, 851, 901, 951])"
      ]
     },
     "execution_count": 20,
     "metadata": {},
     "output_type": "execute_result"
    }
   ],
   "source": [
    "arr4 = np.arange(1,1001,50)\n",
    "arr4\n",
    "#np.arange(start,end step)\n",
    "#np.arange(end) # will start from 0 and step is 1\n",
    "#np.arange(start,end) # step is 1"
   ]
  },
  {
   "cell_type": "code",
   "execution_count": 21,
   "id": "cef70cea-5244-4d1b-a7f8-37160fc559b1",
   "metadata": {},
   "outputs": [
    {
     "data": {
      "text/plain": [
       "array([ 0,  1,  2,  3,  4,  5,  6,  7,  8,  9, 10, 11, 12, 13, 14, 15, 16,\n",
       "       17, 18, 19, 20, 21, 22, 23, 24, 25, 26, 27, 28, 29, 30, 31, 32, 33,\n",
       "       34, 35, 36, 37, 38, 39, 40, 41, 42, 43, 44])"
      ]
     },
     "execution_count": 21,
     "metadata": {},
     "output_type": "execute_result"
    }
   ],
   "source": [
    "arr5 = np.arange(45)\n",
    "arr5"
   ]
  },
  {
   "cell_type": "code",
   "execution_count": null,
   "id": "139240e5-2b19-4fe4-9453-5fdb8d8fd305",
   "metadata": {},
   "outputs": [],
   "source": []
  }
 ],
 "metadata": {
  "kernelspec": {
   "display_name": "Python 3 (ipykernel)",
   "language": "python",
   "name": "python3"
  },
  "language_info": {
   "codemirror_mode": {
    "name": "ipython",
    "version": 3
   },
   "file_extension": ".py",
   "mimetype": "text/x-python",
   "name": "python",
   "nbconvert_exporter": "python",
   "pygments_lexer": "ipython3",
   "version": "3.12.0"
  }
 },
 "nbformat": 4,
 "nbformat_minor": 5
}
