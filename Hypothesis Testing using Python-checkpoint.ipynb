{
 "cells": [
  {
   "cell_type": "code",
   "execution_count": 1,
   "id": "c72d6aee-3bb0-463d-8443-114481a35e2d",
   "metadata": {},
   "outputs": [],
   "source": [
    "import numpy as np\n",
    "import pandas as pd\n",
    "import matplotlib.pyplot as plt\n",
    "import seaborn as sns\n",
    "import scipy as sp\n",
    "from scipy.stats import shapiro, spearmanr, chi2_contingency, ttest_ind\n",
    "from sklearn.datasets import load_wine, make_classification\n",
    "import warnings\n",
    "warnings.filterwarnings(\"ignore\")"
   ]
  },
  {
   "cell_type": "code",
   "execution_count": 48,
   "id": "5395a83a-a8a6-4831-ba83-ab74f3290179",
   "metadata": {},
   "outputs": [],
   "source": [
    "wine = load_wine()"
   ]
  },
  {
   "cell_type": "code",
   "execution_count": 49,
   "id": "223157f1-f454-40ed-b78f-ac1bf5efbed9",
   "metadata": {},
   "outputs": [
    {
     "data": {
      "text/plain": [
       "['DESCR', 'data', 'feature_names', 'frame', 'target', 'target_names']"
      ]
     },
     "execution_count": 49,
     "metadata": {},
     "output_type": "execute_result"
    }
   ],
   "source": [
    "dir(wine)"
   ]
  },
  {
   "cell_type": "code",
   "execution_count": 50,
   "id": "92b0452c-86b5-4828-b8b1-918f58e79253",
   "metadata": {},
   "outputs": [],
   "source": [
    "wine_df = pd.DataFrame(wine.data, columns=wine.feature_names)\n",
    "wine_df[\"target\"] = wine.target"
   ]
  },
  {
   "cell_type": "code",
   "execution_count": 51,
   "id": "9adcf3e4-cd67-48d3-b313-8b65c2df6f7a",
   "metadata": {},
   "outputs": [],
   "source": [
    "data, target = make_classification(n_samples=400, n_features=5, n_classes=2)"
   ]
  },
  {
   "cell_type": "code",
   "execution_count": 52,
   "id": "0ed9a566-458b-4129-a121-6708fab77137",
   "metadata": {},
   "outputs": [],
   "source": [
    "df = pd.DataFrame(data, columns=[f\"feature{i}\" for i in range(1, 6)])\n",
    "df[\"target\"] = target"
   ]
  },
  {
   "cell_type": "code",
   "execution_count": 53,
   "id": "ab68fc58-4882-4d3e-b6b1-1595e7b0d8ab",
   "metadata": {},
   "outputs": [],
   "source": [
    "wine = wine_df.copy()"
   ]
  },
  {
   "cell_type": "code",
   "execution_count": 54,
   "id": "83a702a7-fde7-4a22-81bb-0c5346c64eb7",
   "metadata": {
    "scrolled": true
   },
   "outputs": [
    {
     "data": {
      "text/html": [
       "<div>\n",
       "<style scoped>\n",
       "    .dataframe tbody tr th:only-of-type {\n",
       "        vertical-align: middle;\n",
       "    }\n",
       "\n",
       "    .dataframe tbody tr th {\n",
       "        vertical-align: top;\n",
       "    }\n",
       "\n",
       "    .dataframe thead th {\n",
       "        text-align: right;\n",
       "    }\n",
       "</style>\n",
       "<table border=\"1\" class=\"dataframe\">\n",
       "  <thead>\n",
       "    <tr style=\"text-align: right;\">\n",
       "      <th></th>\n",
       "      <th>alcohol</th>\n",
       "      <th>malic_acid</th>\n",
       "      <th>ash</th>\n",
       "      <th>alcalinity_of_ash</th>\n",
       "      <th>magnesium</th>\n",
       "      <th>total_phenols</th>\n",
       "      <th>flavanoids</th>\n",
       "      <th>nonflavanoid_phenols</th>\n",
       "      <th>proanthocyanins</th>\n",
       "      <th>color_intensity</th>\n",
       "      <th>hue</th>\n",
       "      <th>od280/od315_of_diluted_wines</th>\n",
       "      <th>proline</th>\n",
       "      <th>target</th>\n",
       "    </tr>\n",
       "  </thead>\n",
       "  <tbody>\n",
       "    <tr>\n",
       "      <th>0</th>\n",
       "      <td>14.23</td>\n",
       "      <td>1.71</td>\n",
       "      <td>2.43</td>\n",
       "      <td>15.6</td>\n",
       "      <td>127.0</td>\n",
       "      <td>2.80</td>\n",
       "      <td>3.06</td>\n",
       "      <td>0.28</td>\n",
       "      <td>2.29</td>\n",
       "      <td>5.64</td>\n",
       "      <td>1.04</td>\n",
       "      <td>3.92</td>\n",
       "      <td>1065.0</td>\n",
       "      <td>0</td>\n",
       "    </tr>\n",
       "    <tr>\n",
       "      <th>1</th>\n",
       "      <td>13.20</td>\n",
       "      <td>1.78</td>\n",
       "      <td>2.14</td>\n",
       "      <td>11.2</td>\n",
       "      <td>100.0</td>\n",
       "      <td>2.65</td>\n",
       "      <td>2.76</td>\n",
       "      <td>0.26</td>\n",
       "      <td>1.28</td>\n",
       "      <td>4.38</td>\n",
       "      <td>1.05</td>\n",
       "      <td>3.40</td>\n",
       "      <td>1050.0</td>\n",
       "      <td>0</td>\n",
       "    </tr>\n",
       "    <tr>\n",
       "      <th>2</th>\n",
       "      <td>13.16</td>\n",
       "      <td>2.36</td>\n",
       "      <td>2.67</td>\n",
       "      <td>18.6</td>\n",
       "      <td>101.0</td>\n",
       "      <td>2.80</td>\n",
       "      <td>3.24</td>\n",
       "      <td>0.30</td>\n",
       "      <td>2.81</td>\n",
       "      <td>5.68</td>\n",
       "      <td>1.03</td>\n",
       "      <td>3.17</td>\n",
       "      <td>1185.0</td>\n",
       "      <td>0</td>\n",
       "    </tr>\n",
       "    <tr>\n",
       "      <th>3</th>\n",
       "      <td>14.37</td>\n",
       "      <td>1.95</td>\n",
       "      <td>2.50</td>\n",
       "      <td>16.8</td>\n",
       "      <td>113.0</td>\n",
       "      <td>3.85</td>\n",
       "      <td>3.49</td>\n",
       "      <td>0.24</td>\n",
       "      <td>2.18</td>\n",
       "      <td>7.80</td>\n",
       "      <td>0.86</td>\n",
       "      <td>3.45</td>\n",
       "      <td>1480.0</td>\n",
       "      <td>0</td>\n",
       "    </tr>\n",
       "    <tr>\n",
       "      <th>4</th>\n",
       "      <td>13.24</td>\n",
       "      <td>2.59</td>\n",
       "      <td>2.87</td>\n",
       "      <td>21.0</td>\n",
       "      <td>118.0</td>\n",
       "      <td>2.80</td>\n",
       "      <td>2.69</td>\n",
       "      <td>0.39</td>\n",
       "      <td>1.82</td>\n",
       "      <td>4.32</td>\n",
       "      <td>1.04</td>\n",
       "      <td>2.93</td>\n",
       "      <td>735.0</td>\n",
       "      <td>0</td>\n",
       "    </tr>\n",
       "  </tbody>\n",
       "</table>\n",
       "</div>"
      ],
      "text/plain": [
       "   alcohol  malic_acid   ash  alcalinity_of_ash  magnesium  total_phenols  \\\n",
       "0    14.23        1.71  2.43               15.6      127.0           2.80   \n",
       "1    13.20        1.78  2.14               11.2      100.0           2.65   \n",
       "2    13.16        2.36  2.67               18.6      101.0           2.80   \n",
       "3    14.37        1.95  2.50               16.8      113.0           3.85   \n",
       "4    13.24        2.59  2.87               21.0      118.0           2.80   \n",
       "\n",
       "   flavanoids  nonflavanoid_phenols  proanthocyanins  color_intensity   hue  \\\n",
       "0        3.06                  0.28             2.29             5.64  1.04   \n",
       "1        2.76                  0.26             1.28             4.38  1.05   \n",
       "2        3.24                  0.30             2.81             5.68  1.03   \n",
       "3        3.49                  0.24             2.18             7.80  0.86   \n",
       "4        2.69                  0.39             1.82             4.32  1.04   \n",
       "\n",
       "   od280/od315_of_diluted_wines  proline  target  \n",
       "0                          3.92   1065.0       0  \n",
       "1                          3.40   1050.0       0  \n",
       "2                          3.17   1185.0       0  \n",
       "3                          3.45   1480.0       0  \n",
       "4                          2.93    735.0       0  "
      ]
     },
     "execution_count": 54,
     "metadata": {},
     "output_type": "execute_result"
    }
   ],
   "source": [
    "wine.head()"
   ]
  },
  {
   "cell_type": "code",
   "execution_count": 13,
   "id": "4470dedc-447a-48cb-9877-214e736e397a",
   "metadata": {
    "scrolled": true
   },
   "outputs": [
    {
     "data": {
      "text/html": [
       "<div>\n",
       "<style scoped>\n",
       "    .dataframe tbody tr th:only-of-type {\n",
       "        vertical-align: middle;\n",
       "    }\n",
       "\n",
       "    .dataframe tbody tr th {\n",
       "        vertical-align: top;\n",
       "    }\n",
       "\n",
       "    .dataframe thead th {\n",
       "        text-align: right;\n",
       "    }\n",
       "</style>\n",
       "<table border=\"1\" class=\"dataframe\">\n",
       "  <thead>\n",
       "    <tr style=\"text-align: right;\">\n",
       "      <th></th>\n",
       "      <th>feature1</th>\n",
       "      <th>feature2</th>\n",
       "      <th>feature3</th>\n",
       "      <th>feature4</th>\n",
       "      <th>feature5</th>\n",
       "      <th>target</th>\n",
       "    </tr>\n",
       "  </thead>\n",
       "  <tbody>\n",
       "    <tr>\n",
       "      <th>0</th>\n",
       "      <td>-0.295387</td>\n",
       "      <td>1.271885</td>\n",
       "      <td>1.027361</td>\n",
       "      <td>1.050084</td>\n",
       "      <td>0.749601</td>\n",
       "      <td>1</td>\n",
       "    </tr>\n",
       "    <tr>\n",
       "      <th>1</th>\n",
       "      <td>-0.967670</td>\n",
       "      <td>1.795969</td>\n",
       "      <td>1.179128</td>\n",
       "      <td>-1.024166</td>\n",
       "      <td>1.711487</td>\n",
       "      <td>1</td>\n",
       "    </tr>\n",
       "    <tr>\n",
       "      <th>2</th>\n",
       "      <td>0.416700</td>\n",
       "      <td>0.314799</td>\n",
       "      <td>0.495871</td>\n",
       "      <td>2.387416</td>\n",
       "      <td>-0.395418</td>\n",
       "      <td>0</td>\n",
       "    </tr>\n",
       "    <tr>\n",
       "      <th>3</th>\n",
       "      <td>-0.455494</td>\n",
       "      <td>1.981227</td>\n",
       "      <td>1.602616</td>\n",
       "      <td>1.449307</td>\n",
       "      <td>1.162164</td>\n",
       "      <td>1</td>\n",
       "    </tr>\n",
       "    <tr>\n",
       "      <th>4</th>\n",
       "      <td>-2.171916</td>\n",
       "      <td>4.566085</td>\n",
       "      <td>3.140022</td>\n",
       "      <td>0.507096</td>\n",
       "      <td>4.009361</td>\n",
       "      <td>1</td>\n",
       "    </tr>\n",
       "  </tbody>\n",
       "</table>\n",
       "</div>"
      ],
      "text/plain": [
       "   feature1  feature2  feature3  feature4  feature5  target\n",
       "0 -0.295387  1.271885  1.027361  1.050084  0.749601       1\n",
       "1 -0.967670  1.795969  1.179128 -1.024166  1.711487       1\n",
       "2  0.416700  0.314799  0.495871  2.387416 -0.395418       0\n",
       "3 -0.455494  1.981227  1.602616  1.449307  1.162164       1\n",
       "4 -2.171916  4.566085  3.140022  0.507096  4.009361       1"
      ]
     },
     "execution_count": 13,
     "metadata": {},
     "output_type": "execute_result"
    }
   ],
   "source": [
    "df.head()"
   ]
  },
  {
   "cell_type": "code",
   "execution_count": 17,
   "id": "e3a4dd0a-6379-4e33-a394-3a3e3c547f48",
   "metadata": {},
   "outputs": [
    {
     "data": {
      "image/png": "[encoded data removed]",
      "text/plain": [
       "<Figure size 600x400 with 1 Axes>"
      ]
     },
     "metadata": {},
     "output_type": "display_data"
    }
   ],
   "source": [
    "plt.figure(figsize=(6,4))\n",
    "plt.title(\"Alcohol column Distribution\")\n",
    "sns.histplot(wine[\"alcohol\"], kde=True, alpha=0.7)\n",
    "plt.show()"
   ]
  },
  {
   "cell_type": "code",
   "execution_count": 21,
   "id": "99fb9139-2f94-48b7-8bc9-660b57b6fa03",
   "metadata": {},
   "outputs": [
    {
     "name": "stdout",
     "output_type": "stream",
     "text": [
      "Shapiro Statistical Value :  0.981804609298706\n",
      "Shapiro p_value: 0.020050711929798126\n",
      "Data is not normally distributed (Rejecting H0)\n"
     ]
    }
   ],
   "source": [
    "# H0 -> Data is normally distributed\n",
    "# Ha -> Data is not normally distributed\n",
    "\n",
    "# Checking wheather to accept the null hypothesis or reject it.\n",
    "sh_stat, sh_p = shapiro(wine[\"alcohol\"])\n",
    "\n",
    "print(\"Shapiro Statistical Value : \", sh_stat)\n",
    "print(\"Shapiro p_value:\", sh_p)\n",
    "\n",
    "alpha = 0.05\n",
    "if sh_p > alpha:\n",
    "    print(\"Data is normally distributes (Acepting H0)\")\n",
    "else:\n",
    "    print(\"Data is not normally distributed (Rejecting H0)\")    "
   ]
  },
  {
   "cell_type": "code",
   "execution_count": 22,
   "id": "a6156141-3c75-4b0e-9480-3ebba95bc7e3",
   "metadata": {},
   "outputs": [
    {
     "data": {
      "image/png": "[encoded data removed]",
      "text/plain": [
       "<Figure size 600x400 with 1 Axes>"
      ]
     },
     "metadata": {},
     "output_type": "display_data"
    }
   ],
   "source": [
    "plt.figure(figsize=(6,4))\n",
    "plt.title(\"Feature1 column Distribution\")\n",
    "sns.histplot(df[\"feature1\"], kde=True, alpha=0.7)\n",
    "plt.show()"
   ]
  },
  {
   "cell_type": "code",
   "execution_count": 23,
   "id": "594f9914-8d85-4fd2-89b2-7fe6b2db7a3e",
   "metadata": {},
   "outputs": [
    {
     "name": "stdout",
     "output_type": "stream",
     "text": [
      "Shapiro Statistical Value :  0.9922505021095276\n",
      "Shapiro p_value: 0.03569641336798668\n",
      "Data is not normally distributed (Rejecting H0)\n"
     ]
    }
   ],
   "source": [
    "# H0 -> Data is normally distributed\n",
    "# Ha -> Data is not normally distributed\n",
    "\n",
    "# Checking wheather to accept the null hypothesis or reject it.\n",
    "sh_stat, sh_p = shapiro(df[\"feature1\"])\n",
    "\n",
    "print(\"Shapiro Statistical Value : \", sh_stat)\n",
    "print(\"Shapiro p_value:\", sh_p)\n",
    "\n",
    "alpha = 0.05\n",
    "if sh_p > alpha:\n",
    "    print(\"Data is normally distributes (Acepting H0)\")\n",
    "else:\n",
    "    print(\"Data is not normally distributed (Rejecting H0)\")    "
   ]
  },
  {
   "cell_type": "code",
   "execution_count": 26,
   "id": "2e6e27b4-9551-45ef-9093-0ceaa034d4d5",
   "metadata": {
    "scrolled": true
   },
   "outputs": [
    {
     "data": {
      "image/png": "[encoded data removed]",
      "text/plain": [
       "<Figure size 600x400 with 1 Axes>"
      ]
     },
     "metadata": {},
     "output_type": "display_data"
    }
   ],
   "source": [
    "sample = np.random.normal(size=400)\n",
    "plt.figure(figsize=(6,4))\n",
    "plt.title(\"Feature1 column Distribution\")\n",
    "sns.histplot(sample, kde=True, alpha=0.7)\n",
    "plt.show()"
   ]
  },
  {
   "cell_type": "code",
   "execution_count": 30,
   "id": "1148211f-b6ff-44dc-a4eb-aa6609eb6d31",
   "metadata": {},
   "outputs": [
    {
     "name": "stdout",
     "output_type": "stream",
     "text": [
      "Shapiro Statistical Value : 0.99685\n",
      "Shapiro p_value :  0.63224\n",
      "Data is normally distributed (Acepting H0)\n"
     ]
    }
   ],
   "source": [
    "# H0 -> Data is normally distributed\n",
    "# Ha -> Data is not normally distributed\n",
    "\n",
    "# Checking wheather to accept the null hypothesis or reject it.\n",
    "sh_stat, sh_p = shapiro(sample)\n",
    "\n",
    "print(\"Shapiro Statistical Value : %.5f\" %sh_stat)\n",
    "print(\"Shapiro p_value :  %.5f\" %sh_p)\n",
    "\n",
    "alpha = 0.05\n",
    "if sh_p > alpha:\n",
    "    print(\"Data is normally distributed (Acepting H0)\")\n",
    "else:\n",
    "    print(\"Data is not normally distributed (Rejecting H0)\")  "
   ]
  },
  {
   "cell_type": "code",
   "execution_count": 31,
   "id": "800c7a55-ced3-4de1-b7ab-a5a0e9b7a2dd",
   "metadata": {},
   "outputs": [
    {
     "data": {
      "text/plain": [
       "Index(['alcohol', 'malic_acid', 'ash', 'alcalinity_of_ash', 'magnesium',\n",
       "       'total_phenols', 'flavanoids', 'nonflavanoid_phenols',\n",
       "       'proanthocyanins', 'color_intensity', 'hue',\n",
       "       'od280/od315_of_diluted_wines', 'proline', 'target'],\n",
       "      dtype='object')"
      ]
     },
     "execution_count": 31,
     "metadata": {},
     "output_type": "execute_result"
    }
   ],
   "source": [
    "wine.columns"
   ]
  },
  {
   "cell_type": "code",
   "execution_count": 36,
   "id": "a3914f0f-b550-4113-ad5a-9c9a5722c8e5",
   "metadata": {
    "scrolled": true
   },
   "outputs": [
    {
     "data": {
      "image/png": "[encoded data removed]",
      "text/plain": [
       "<Figure size 600x400 with 1 Axes>"
      ]
     },
     "metadata": {},
     "output_type": "display_data"
    }
   ],
   "source": [
    "plt.figure(figsize=(6,4))\n",
    "plt.title(\"Feature1 column Distribution\")\n",
    "sns.scatterplot(x=wine[\"total_phenols\"],y=wine[\"malic_acid\"], alpha=0.7)\n",
    "plt.show()"
   ]
  },
  {
   "cell_type": "code",
   "execution_count": 39,
   "id": "bc960e26-08e1-4c8e-8f84-f7e97e5b3bf4",
   "metadata": {},
   "outputs": [
    {
     "name": "stdout",
     "output_type": "stream",
     "text": [
      "Spearman Statistical Value : -0.28022\n",
      "Spearman p_value :  0.00015\n",
      "Total_phonol and malic_acid are not independent (Rejecting H0)\n"
     ]
    }
   ],
   "source": [
    "# H0 --> Total_phonol and malic_acid are independent\n",
    "# Ha --> Total_phonol and malic_acid are not independent\n",
    "\n",
    "# Checking weather to accept or reject the null hypothesis\n",
    "# spearmenr\n",
    "sp_stats, sp_p = spearmanr(wine[\"total_phenols\"], wine[\"malic_acid\"])\n",
    "\n",
    "print(\"Spearman Statistical Value : %.5f\" %sp_stats)\n",
    "print(\"Spearman p_value :  %.5f\" %sp_p)\n",
    "\n",
    "alpha = 0.05\n",
    "if sp_p > alpha:\n",
    "    print(\"Total_phonol and malic_acid are independent (Acepting H0)\")\n",
    "else:\n",
    "    print(\"Total_phonol and malic_acid are not independent (Rejecting H0)\")  "
   ]
  },
  {
   "cell_type": "code",
   "execution_count": 40,
   "id": "3955e98e-ed36-4c31-b815-71e0e6fb18aa",
   "metadata": {},
   "outputs": [
    {
     "data": {
      "text/html": [
       "<div>\n",
       "<style scoped>\n",
       "    .dataframe tbody tr th:only-of-type {\n",
       "        vertical-align: middle;\n",
       "    }\n",
       "\n",
       "    .dataframe tbody tr th {\n",
       "        vertical-align: top;\n",
       "    }\n",
       "\n",
       "    .dataframe thead th {\n",
       "        text-align: right;\n",
       "    }\n",
       "</style>\n",
       "<table border=\"1\" class=\"dataframe\">\n",
       "  <thead>\n",
       "    <tr style=\"text-align: right;\">\n",
       "      <th></th>\n",
       "      <th>feature1</th>\n",
       "      <th>feature2</th>\n",
       "      <th>feature3</th>\n",
       "      <th>feature4</th>\n",
       "      <th>feature5</th>\n",
       "      <th>target</th>\n",
       "    </tr>\n",
       "  </thead>\n",
       "  <tbody>\n",
       "    <tr>\n",
       "      <th>0</th>\n",
       "      <td>-0.295387</td>\n",
       "      <td>1.271885</td>\n",
       "      <td>1.027361</td>\n",
       "      <td>1.050084</td>\n",
       "      <td>0.749601</td>\n",
       "      <td>1</td>\n",
       "    </tr>\n",
       "    <tr>\n",
       "      <th>1</th>\n",
       "      <td>-0.967670</td>\n",
       "      <td>1.795969</td>\n",
       "      <td>1.179128</td>\n",
       "      <td>-1.024166</td>\n",
       "      <td>1.711487</td>\n",
       "      <td>1</td>\n",
       "    </tr>\n",
       "    <tr>\n",
       "      <th>2</th>\n",
       "      <td>0.416700</td>\n",
       "      <td>0.314799</td>\n",
       "      <td>0.495871</td>\n",
       "      <td>2.387416</td>\n",
       "      <td>-0.395418</td>\n",
       "      <td>0</td>\n",
       "    </tr>\n",
       "    <tr>\n",
       "      <th>3</th>\n",
       "      <td>-0.455494</td>\n",
       "      <td>1.981227</td>\n",
       "      <td>1.602616</td>\n",
       "      <td>1.449307</td>\n",
       "      <td>1.162164</td>\n",
       "      <td>1</td>\n",
       "    </tr>\n",
       "    <tr>\n",
       "      <th>4</th>\n",
       "      <td>-2.171916</td>\n",
       "      <td>4.566085</td>\n",
       "      <td>3.140022</td>\n",
       "      <td>0.507096</td>\n",
       "      <td>4.009361</td>\n",
       "      <td>1</td>\n",
       "    </tr>\n",
       "  </tbody>\n",
       "</table>\n",
       "</div>"
      ],
      "text/plain": [
       "   feature1  feature2  feature3  feature4  feature5  target\n",
       "0 -0.295387  1.271885  1.027361  1.050084  0.749601       1\n",
       "1 -0.967670  1.795969  1.179128 -1.024166  1.711487       1\n",
       "2  0.416700  0.314799  0.495871  2.387416 -0.395418       0\n",
       "3 -0.455494  1.981227  1.602616  1.449307  1.162164       1\n",
       "4 -2.171916  4.566085  3.140022  0.507096  4.009361       1"
      ]
     },
     "execution_count": 40,
     "metadata": {},
     "output_type": "execute_result"
    }
   ],
   "source": [
    "df.head()"
   ]
  },
  {
   "cell_type": "code",
   "execution_count": 42,
   "id": "d41e2c4b-1ec3-43df-8c50-9c7283ec1cca",
   "metadata": {},
   "outputs": [
    {
     "data": {
      "image/png": "[encoded data removed]",
      "text/plain": [
       "<Figure size 600x400 with 1 Axes>"
      ]
     },
     "metadata": {},
     "output_type": "display_data"
    }
   ],
   "source": [
    "plt.figure(figsize=(6,4))\n",
    "plt.title(\"Feature1 vs Feature2\")\n",
    "sns.scatterplot(x=df[\"feature1\"],y=df[\"feature2\"], alpha=0.7)\n",
    "plt.show()"
   ]
  },
  {
   "cell_type": "code",
   "execution_count": 43,
   "id": "0f86bc29-9e4c-4081-bf19-1bb871bf82a1",
   "metadata": {},
   "outputs": [
    {
     "name": "stdout",
     "output_type": "stream",
     "text": [
      "Spearman Statistical Value : -0.14937\n",
      "Spearman p_value :  0.00275\n",
      "Feature1 and Feature2 are independent (Rejecting H0)\n"
     ]
    }
   ],
   "source": [
    "# H0 --> Feature1 and Feature2 are dependent\n",
    "# Ha --> Feature1 and Feature2 are independent\n",
    "\n",
    "# Checking weather to accept or reject the null hypothesis\n",
    "# spearmenr\n",
    "sp_stats, sp_p = spearmanr(df[\"feature1\"], df[\"feature2\"])\n",
    "# -1---0---+1\n",
    "\n",
    "print(\"Spearman Statistical Value : %.5f\" %sp_stats)\n",
    "print(\"Spearman p_value :  %.5f\" %sp_p)\n",
    "\n",
    "alpha = 0.05\n",
    "if sp_p > alpha:\n",
    "    print(\"Feature1 and Feature2 are dependent (Acepting H0)\")\n",
    "else:\n",
    "    print(\"Feature1 and Feature2 are independent (Rejecting H0)\")  "
   ]
  },
  {
   "cell_type": "code",
   "execution_count": 58,
   "id": "38de4be1-b621-4004-89dc-c2318bc233ef",
   "metadata": {
    "scrolled": true
   },
   "outputs": [
    {
     "data": {
      "text/plain": [
       "0      2\n",
       "1      1\n",
       "2      3\n",
       "3      2\n",
       "4      1\n",
       "      ..\n",
       "173    0\n",
       "174    1\n",
       "175    1\n",
       "176    1\n",
       "177    1\n",
       "Name: proanthocyanins, Length: 178, dtype: category\n",
       "Categories (4, int64): [0 < 1 < 2 < 3]"
      ]
     },
     "execution_count": 58,
     "metadata": {},
     "output_type": "execute_result"
    }
   ],
   "source": [
    "cat = pd.cut(wine[\"proanthocyanins\"], bins=4, labels=[0,1,2,3])\n",
    "cat"
   ]
  },
  {
   "cell_type": "code",
   "execution_count": 59,
   "id": "62c6d007-3521-48cf-b960-45c68b41ab64",
   "metadata": {
    "scrolled": true
   },
   "outputs": [
    {
     "data": {
      "text/html": [
       "<div>\n",
       "<style scoped>\n",
       "    .dataframe tbody tr th:only-of-type {\n",
       "        vertical-align: middle;\n",
       "    }\n",
       "\n",
       "    .dataframe tbody tr th {\n",
       "        vertical-align: top;\n",
       "    }\n",
       "\n",
       "    .dataframe thead th {\n",
       "        text-align: right;\n",
       "    }\n",
       "</style>\n",
       "<table border=\"1\" class=\"dataframe\">\n",
       "  <thead>\n",
       "    <tr style=\"text-align: right;\">\n",
       "      <th></th>\n",
       "      <th>alcohol</th>\n",
       "      <th>malic_acid</th>\n",
       "      <th>ash</th>\n",
       "      <th>alcalinity_of_ash</th>\n",
       "      <th>magnesium</th>\n",
       "      <th>total_phenols</th>\n",
       "      <th>flavanoids</th>\n",
       "      <th>nonflavanoid_phenols</th>\n",
       "      <th>proanthocyanins</th>\n",
       "      <th>color_intensity</th>\n",
       "      <th>hue</th>\n",
       "      <th>od280/od315_of_diluted_wines</th>\n",
       "      <th>proline</th>\n",
       "      <th>target</th>\n",
       "    </tr>\n",
       "  </thead>\n",
       "  <tbody>\n",
       "    <tr>\n",
       "      <th>0</th>\n",
       "      <td>14.23</td>\n",
       "      <td>1.71</td>\n",
       "      <td>2.43</td>\n",
       "      <td>15.6</td>\n",
       "      <td>127.0</td>\n",
       "      <td>2.80</td>\n",
       "      <td>2</td>\n",
       "      <td>0.28</td>\n",
       "      <td>2</td>\n",
       "      <td>5.64</td>\n",
       "      <td>1.04</td>\n",
       "      <td>3.92</td>\n",
       "      <td>1065.0</td>\n",
       "      <td>0</td>\n",
       "    </tr>\n",
       "    <tr>\n",
       "      <th>1</th>\n",
       "      <td>13.20</td>\n",
       "      <td>1.78</td>\n",
       "      <td>2.14</td>\n",
       "      <td>11.2</td>\n",
       "      <td>100.0</td>\n",
       "      <td>2.65</td>\n",
       "      <td>2</td>\n",
       "      <td>0.26</td>\n",
       "      <td>1</td>\n",
       "      <td>4.38</td>\n",
       "      <td>1.05</td>\n",
       "      <td>3.40</td>\n",
       "      <td>1050.0</td>\n",
       "      <td>0</td>\n",
       "    </tr>\n",
       "    <tr>\n",
       "      <th>2</th>\n",
       "      <td>13.16</td>\n",
       "      <td>2.36</td>\n",
       "      <td>2.67</td>\n",
       "      <td>18.6</td>\n",
       "      <td>101.0</td>\n",
       "      <td>2.80</td>\n",
       "      <td>2</td>\n",
       "      <td>0.30</td>\n",
       "      <td>3</td>\n",
       "      <td>5.68</td>\n",
       "      <td>1.03</td>\n",
       "      <td>3.17</td>\n",
       "      <td>1185.0</td>\n",
       "      <td>0</td>\n",
       "    </tr>\n",
       "    <tr>\n",
       "      <th>3</th>\n",
       "      <td>14.37</td>\n",
       "      <td>1.95</td>\n",
       "      <td>2.50</td>\n",
       "      <td>16.8</td>\n",
       "      <td>113.0</td>\n",
       "      <td>3.85</td>\n",
       "      <td>2</td>\n",
       "      <td>0.24</td>\n",
       "      <td>2</td>\n",
       "      <td>7.80</td>\n",
       "      <td>0.86</td>\n",
       "      <td>3.45</td>\n",
       "      <td>1480.0</td>\n",
       "      <td>0</td>\n",
       "    </tr>\n",
       "    <tr>\n",
       "      <th>4</th>\n",
       "      <td>13.24</td>\n",
       "      <td>2.59</td>\n",
       "      <td>2.87</td>\n",
       "      <td>21.0</td>\n",
       "      <td>118.0</td>\n",
       "      <td>2.80</td>\n",
       "      <td>1</td>\n",
       "      <td>0.39</td>\n",
       "      <td>1</td>\n",
       "      <td>4.32</td>\n",
       "      <td>1.04</td>\n",
       "      <td>2.93</td>\n",
       "      <td>735.0</td>\n",
       "      <td>0</td>\n",
       "    </tr>\n",
       "  </tbody>\n",
       "</table>\n",
       "</div>"
      ],
      "text/plain": [
       "   alcohol  malic_acid   ash  alcalinity_of_ash  magnesium  total_phenols  \\\n",
       "0    14.23        1.71  2.43               15.6      127.0           2.80   \n",
       "1    13.20        1.78  2.14               11.2      100.0           2.65   \n",
       "2    13.16        2.36  2.67               18.6      101.0           2.80   \n",
       "3    14.37        1.95  2.50               16.8      113.0           3.85   \n",
       "4    13.24        2.59  2.87               21.0      118.0           2.80   \n",
       "\n",
       "  flavanoids  nonflavanoid_phenols proanthocyanins  color_intensity   hue  \\\n",
       "0          2                  0.28               2             5.64  1.04   \n",
       "1          2                  0.26               1             4.38  1.05   \n",
       "2          2                  0.30               3             5.68  1.03   \n",
       "3          2                  0.24               2             7.80  0.86   \n",
       "4          1                  0.39               1             4.32  1.04   \n",
       "\n",
       "   od280/od315_of_diluted_wines  proline  target  \n",
       "0                          3.92   1065.0       0  \n",
       "1                          3.40   1050.0       0  \n",
       "2                          3.17   1185.0       0  \n",
       "3                          3.45   1480.0       0  \n",
       "4                          2.93    735.0       0  "
      ]
     },
     "execution_count": 59,
     "metadata": {},
     "output_type": "execute_result"
    }
   ],
   "source": [
    "# Sequestial ---> Descrete\n",
    "# Numerical ---> Categorical\n",
    "\n",
    "wine[\"proanthocyanins\"]=cat\n",
    "# wine.head()"
   ]
  },
  {
   "cell_type": "code",
   "execution_count": 65,
   "id": "a9e7ff05-0254-44d8-b40f-4b8b5f14f76e",
   "metadata": {},
   "outputs": [
    {
     "data": {
      "text/plain": [
       "(25, 25)"
      ]
     },
     "execution_count": 65,
     "metadata": {},
     "output_type": "execute_result"
    }
   ],
   "source": [
    "sample1 = wine[\"ash\"].iloc[:25]\n",
    "sample2 = wine[\"ash\"].iloc[-25:]\n",
    "\n",
    "len(sample1), len(sample2)"
   ]
  },
  {
   "cell_type": "code",
   "execution_count": 67,
   "id": "feccdf0e-45e0-4c2e-96df-6ef71ae8a1af",
   "metadata": {},
   "outputs": [
    {
     "name": "stdout",
     "output_type": "stream",
     "text": [
      "T Statistical Value : 0.42966\n",
      "p value for t_test : 0.66937\n",
      "sample1 and sample2 are equal (Accepting H0)\n"
     ]
    }
   ],
   "source": [
    "# H0 --> sample1 and sample2 are equal\n",
    "# Ha --> sample1 and sample2 are not equal\n",
    "\n",
    "# Cheking weather to accept or reject the null hypothesis\n",
    "t_stats, t_p = ttest_ind(sample1, sample2)\n",
    "\n",
    "print(\"T Statistical Value : %.5f\"%t_stats)\n",
    "print(\"p value for t_test : %.5f\"%t_p)\n",
    "\n",
    "alpha = 0.05\n",
    "if t_p > alpha:\n",
    "    print(\"sample1 and sample2 are equal (Accepting H0)\")\n",
    "else:\n",
    "    print(\"sample1 and sample2 are not equal (Rejecting H0)\")"
   ]
  },
  {
   "cell_type": "code",
   "execution_count": 68,
   "id": "b8705a62-ff4e-43bd-af2a-b33f96c20df3",
   "metadata": {},
   "outputs": [
    {
     "data": {
      "text/plain": [
       "2.4744"
      ]
     },
     "execution_count": 68,
     "metadata": {},
     "output_type": "execute_result"
    }
   ],
   "source": [
    "sample1.mean()"
   ]
  },
  {
   "cell_type": "code",
   "execution_count": 69,
   "id": "7c68e6cf-85bf-42ce-b666-12151850b498",
   "metadata": {},
   "outputs": [
    {
     "data": {
      "text/plain": [
       "2.452"
      ]
     },
     "execution_count": 69,
     "metadata": {},
     "output_type": "execute_result"
    }
   ],
   "source": [
    "sample2.mean()"
   ]
  },
  {
   "cell_type": "code",
   "execution_count": 74,
   "id": "b6fdb00c-897c-4896-9e56-d3512fba3a41",
   "metadata": {},
   "outputs": [
    {
     "data": {
      "text/html": [
       "<div>\n",
       "<style scoped>\n",
       "    .dataframe tbody tr th:only-of-type {\n",
       "        vertical-align: middle;\n",
       "    }\n",
       "\n",
       "    .dataframe tbody tr th {\n",
       "        vertical-align: top;\n",
       "    }\n",
       "\n",
       "    .dataframe thead th {\n",
       "        text-align: right;\n",
       "    }\n",
       "</style>\n",
       "<table border=\"1\" class=\"dataframe\">\n",
       "  <thead>\n",
       "    <tr style=\"text-align: right;\">\n",
       "      <th></th>\n",
       "      <th>alcohol</th>\n",
       "      <th>malic_acid</th>\n",
       "      <th>ash</th>\n",
       "      <th>alcalinity_of_ash</th>\n",
       "      <th>magnesium</th>\n",
       "      <th>total_phenols</th>\n",
       "      <th>flavanoids</th>\n",
       "      <th>nonflavanoid_phenols</th>\n",
       "      <th>proanthocyanins</th>\n",
       "      <th>color_intensity</th>\n",
       "      <th>hue</th>\n",
       "      <th>od280/od315_of_diluted_wines</th>\n",
       "      <th>proline</th>\n",
       "      <th>target</th>\n",
       "    </tr>\n",
       "  </thead>\n",
       "  <tbody>\n",
       "    <tr>\n",
       "      <th>0</th>\n",
       "      <td>14.23</td>\n",
       "      <td>1.71</td>\n",
       "      <td>2.43</td>\n",
       "      <td>15.6</td>\n",
       "      <td>127.0</td>\n",
       "      <td>2.80</td>\n",
       "      <td>2</td>\n",
       "      <td>0.28</td>\n",
       "      <td>2</td>\n",
       "      <td>5.64</td>\n",
       "      <td>1.04</td>\n",
       "      <td>3.92</td>\n",
       "      <td>1065.0</td>\n",
       "      <td>0</td>\n",
       "    </tr>\n",
       "    <tr>\n",
       "      <th>1</th>\n",
       "      <td>13.20</td>\n",
       "      <td>1.78</td>\n",
       "      <td>2.14</td>\n",
       "      <td>11.2</td>\n",
       "      <td>100.0</td>\n",
       "      <td>2.65</td>\n",
       "      <td>2</td>\n",
       "      <td>0.26</td>\n",
       "      <td>1</td>\n",
       "      <td>4.38</td>\n",
       "      <td>1.05</td>\n",
       "      <td>3.40</td>\n",
       "      <td>1050.0</td>\n",
       "      <td>0</td>\n",
       "    </tr>\n",
       "    <tr>\n",
       "      <th>2</th>\n",
       "      <td>13.16</td>\n",
       "      <td>2.36</td>\n",
       "      <td>2.67</td>\n",
       "      <td>18.6</td>\n",
       "      <td>101.0</td>\n",
       "      <td>2.80</td>\n",
       "      <td>2</td>\n",
       "      <td>0.30</td>\n",
       "      <td>3</td>\n",
       "      <td>5.68</td>\n",
       "      <td>1.03</td>\n",
       "      <td>3.17</td>\n",
       "      <td>1185.0</td>\n",
       "      <td>0</td>\n",
       "    </tr>\n",
       "    <tr>\n",
       "      <th>3</th>\n",
       "      <td>14.37</td>\n",
       "      <td>1.95</td>\n",
       "      <td>2.50</td>\n",
       "      <td>16.8</td>\n",
       "      <td>113.0</td>\n",
       "      <td>3.85</td>\n",
       "      <td>2</td>\n",
       "      <td>0.24</td>\n",
       "      <td>2</td>\n",
       "      <td>7.80</td>\n",
       "      <td>0.86</td>\n",
       "      <td>3.45</td>\n",
       "      <td>1480.0</td>\n",
       "      <td>0</td>\n",
       "    </tr>\n",
       "    <tr>\n",
       "      <th>4</th>\n",
       "      <td>13.24</td>\n",
       "      <td>2.59</td>\n",
       "      <td>2.87</td>\n",
       "      <td>21.0</td>\n",
       "      <td>118.0</td>\n",
       "      <td>2.80</td>\n",
       "      <td>1</td>\n",
       "      <td>0.39</td>\n",
       "      <td>1</td>\n",
       "      <td>4.32</td>\n",
       "      <td>1.04</td>\n",
       "      <td>2.93</td>\n",
       "      <td>735.0</td>\n",
       "      <td>0</td>\n",
       "    </tr>\n",
       "  </tbody>\n",
       "</table>\n",
       "</div>"
      ],
      "text/plain": [
       "   alcohol  malic_acid   ash  alcalinity_of_ash  magnesium  total_phenols  \\\n",
       "0    14.23        1.71  2.43               15.6      127.0           2.80   \n",
       "1    13.20        1.78  2.14               11.2      100.0           2.65   \n",
       "2    13.16        2.36  2.67               18.6      101.0           2.80   \n",
       "3    14.37        1.95  2.50               16.8      113.0           3.85   \n",
       "4    13.24        2.59  2.87               21.0      118.0           2.80   \n",
       "\n",
       "  flavanoids  nonflavanoid_phenols proanthocyanins  color_intensity   hue  \\\n",
       "0          2                  0.28               2             5.64  1.04   \n",
       "1          2                  0.26               1             4.38  1.05   \n",
       "2          2                  0.30               3             5.68  1.03   \n",
       "3          2                  0.24               2             7.80  0.86   \n",
       "4          1                  0.39               1             4.32  1.04   \n",
       "\n",
       "   od280/od315_of_diluted_wines  proline  target  \n",
       "0                          3.92   1065.0       0  \n",
       "1                          3.40   1050.0       0  \n",
       "2                          3.17   1185.0       0  \n",
       "3                          3.45   1480.0       0  \n",
       "4                          2.93    735.0       0  "
      ]
     },
     "execution_count": 74,
     "metadata": {},
     "output_type": "execute_result"
    }
   ],
   "source": [
    "wine.head()"
   ]
  },
  {
   "cell_type": "code",
   "execution_count": 76,
   "id": "217c3820-cbc1-4445-9087-9264ff0fdca4",
   "metadata": {
    "scrolled": true
   },
   "outputs": [
    {
     "data": {
      "image/png": "[encoded data removed]",
      "text/plain": [
       "<Figure size 640x480 with 1 Axes>"
      ]
     },
     "metadata": {},
     "output_type": "display_data"
    }
   ],
   "source": [
    "sns.histplot(x=wine[\"proline\"], bins=20, alpha=0.6, legend=False, kde=True)\n",
    "plt.show()"
   ]
  },
  {
   "cell_type": "code",
   "execution_count": 77,
   "id": "882dea03-6261-4ea5-8eb1-63576ba3dde8",
   "metadata": {},
   "outputs": [
    {
     "data": {
      "text/plain": [
       "746.8932584269663"
      ]
     },
     "execution_count": 77,
     "metadata": {},
     "output_type": "execute_result"
    }
   ],
   "source": [
    "wine[\"proline\"].mean()"
   ]
  },
  {
   "cell_type": "code",
   "execution_count": 80,
   "id": "d2e26129-0691-443e-97e3-4cc8b13c7d36",
   "metadata": {},
   "outputs": [],
   "source": [
    "sample1=np.random.choice(wine[\"proline\"], size=34)\n",
    "sample2=np.random.choice(wine[\"proline\"], size=34)"
   ]
  },
  {
   "cell_type": "code",
   "execution_count": 82,
   "id": "6324cbfd-072f-4c2f-86cc-0388d8b493da",
   "metadata": {},
   "outputs": [
    {
     "name": "stdout",
     "output_type": "stream",
     "text": [
      "t-test statistical value : -0.31651\n",
      "t-test p value : 0.75261\n",
      "Sample1 and Sample2 are not equal (Accepting H0)\n"
     ]
    }
   ],
   "source": [
    "# H0 --> Sample1 and Sample2 are not equal\n",
    "# Ha --> Sample1 and Sample2 are equal\n",
    "\n",
    "t_stats, t_p = ttest_ind(sample1, sample2)\n",
    "\n",
    "print(\"t-test statistical value : %.5f\"%t_stats)\n",
    "print(\"t-test p value : %.5f\"%t_p)\n",
    "\n",
    "alpha=0.05\n",
    "if t_p > alpha:\n",
    "    print(\"Sample1 and Sample2 are not equal (Accepting H0)\")\n",
    "else:\n",
    "    print(\"Sample1 and Sample2 are equal (Rejecting H1)\")"
   ]
  },
  {
   "cell_type": "code",
   "execution_count": 83,
   "id": "126040e4-ee4f-4ed9-919a-6e226d288323",
   "metadata": {},
   "outputs": [
    {
     "data": {
      "text/plain": [
       "694.0"
      ]
     },
     "execution_count": 83,
     "metadata": {},
     "output_type": "execute_result"
    }
   ],
   "source": [
    "sample1.mean()"
   ]
  },
  {
   "cell_type": "code",
   "execution_count": 84,
   "id": "bd38b9ec-3089-4832-b88e-4c24518f052c",
   "metadata": {},
   "outputs": [
    {
     "data": {
      "text/plain": [
       "713.7647058823529"
      ]
     },
     "execution_count": 84,
     "metadata": {},
     "output_type": "execute_result"
    }
   ],
   "source": [
    "sample2.mean()"
   ]
  },
  {
   "cell_type": "code",
   "execution_count": 90,
   "id": "8a657d13-0be9-42c5-96f1-cf19218cc86d",
   "metadata": {},
   "outputs": [],
   "source": [
    "data = {\n",
    "    \"Gender\":np.random.choice([\"Male\", \"Female\"], 80),\n",
    "    \"Subject\":np.random.choice([\"Med\", \"Eng\"], 80)\n",
    "}"
   ]
  },
  {
   "cell_type": "code",
   "execution_count": 91,
   "id": "2af2dfec-abf8-44e4-9696-d035dcd12675",
   "metadata": {
    "scrolled": true
   },
   "outputs": [
    {
     "data": {
      "text/html": [
       "<div>\n",
       "<style scoped>\n",
       "    .dataframe tbody tr th:only-of-type {\n",
       "        vertical-align: middle;\n",
       "    }\n",
       "\n",
       "    .dataframe tbody tr th {\n",
       "        vertical-align: top;\n",
       "    }\n",
       "\n",
       "    .dataframe thead th {\n",
       "        text-align: right;\n",
       "    }\n",
       "</style>\n",
       "<table border=\"1\" class=\"dataframe\">\n",
       "  <thead>\n",
       "    <tr style=\"text-align: right;\">\n",
       "      <th></th>\n",
       "      <th>Gender</th>\n",
       "      <th>Subject</th>\n",
       "    </tr>\n",
       "  </thead>\n",
       "  <tbody>\n",
       "    <tr>\n",
       "      <th>0</th>\n",
       "      <td>Female</td>\n",
       "      <td>Eng</td>\n",
       "    </tr>\n",
       "    <tr>\n",
       "      <th>1</th>\n",
       "      <td>Male</td>\n",
       "      <td>Med</td>\n",
       "    </tr>\n",
       "    <tr>\n",
       "      <th>2</th>\n",
       "      <td>Female</td>\n",
       "      <td>Med</td>\n",
       "    </tr>\n",
       "    <tr>\n",
       "      <th>3</th>\n",
       "      <td>Female</td>\n",
       "      <td>Eng</td>\n",
       "    </tr>\n",
       "    <tr>\n",
       "      <th>4</th>\n",
       "      <td>Male</td>\n",
       "      <td>Med</td>\n",
       "    </tr>\n",
       "    <tr>\n",
       "      <th>5</th>\n",
       "      <td>Male</td>\n",
       "      <td>Med</td>\n",
       "    </tr>\n",
       "    <tr>\n",
       "      <th>6</th>\n",
       "      <td>Female</td>\n",
       "      <td>Eng</td>\n",
       "    </tr>\n",
       "    <tr>\n",
       "      <th>7</th>\n",
       "      <td>Male</td>\n",
       "      <td>Med</td>\n",
       "    </tr>\n",
       "    <tr>\n",
       "      <th>8</th>\n",
       "      <td>Male</td>\n",
       "      <td>Eng</td>\n",
       "    </tr>\n",
       "    <tr>\n",
       "      <th>9</th>\n",
       "      <td>Male</td>\n",
       "      <td>Med</td>\n",
       "    </tr>\n",
       "  </tbody>\n",
       "</table>\n",
       "</div>"
      ],
      "text/plain": [
       "   Gender Subject\n",
       "0  Female     Eng\n",
       "1    Male     Med\n",
       "2  Female     Med\n",
       "3  Female     Eng\n",
       "4    Male     Med\n",
       "5    Male     Med\n",
       "6  Female     Eng\n",
       "7    Male     Med\n",
       "8    Male     Eng\n",
       "9    Male     Med"
      ]
     },
     "execution_count": 91,
     "metadata": {},
     "output_type": "execute_result"
    }
   ],
   "source": [
    "course = pd.DataFrame(data)\n",
    "course.head(10)"
   ]
  },
  {
   "cell_type": "code",
   "execution_count": 93,
   "id": "0d831420-e4d7-4f48-891a-55fa3cd9feab",
   "metadata": {},
   "outputs": [],
   "source": [
    "crstb = pd.crosstab(course[\"Gender\"], course[\"Subject\"])"
   ]
  },
  {
   "cell_type": "code",
   "execution_count": 94,
   "id": "aab8b634-6c2e-4fa0-8eee-4a6bf474a46e",
   "metadata": {},
   "outputs": [
    {
     "name": "stdout",
     "output_type": "stream",
     "text": [
      "Chi2 statistical value : 3.15402\n",
      "Chi2 p value : 0.07574\n",
      "More males doing Medical and Females doing Engineering - H0\n"
     ]
    }
   ],
   "source": [
    "# H0 --> More males doing Medical and Females doing Engineering\n",
    "# Ha --> It is not true\n",
    "\n",
    "chi_stat, chi_p, _, _ = chi2_contingency(crstb)\n",
    "\n",
    "print(\"Chi2 statistical value : %.5f\"%chi_stat)\n",
    "print(\"Chi2 p value : %.5f\"%chi_p)\n",
    "\n",
    "alpha=0.05\n",
    "if chi_p>alpha:\n",
    "    print(\"More males doing Medical and Females doing Engineering - H0\")\n",
    "else:\n",
    "    print(\"It is not true - Ha\")"
   ]
  },
  {
   "cell_type": "code",
   "execution_count": null,
   "id": "3efbb9e8-10a4-435d-810a-27842e0ec476",
   "metadata": {},
   "outputs": [],
   "source": []
  }
 ],
 "metadata": {
  "kernelspec": {
   "display_name": "Python 3 (ipykernel)",
   "language": "python",
   "name": "python3"
  },
  "language_info": {
   "codemirror_mode": {
    "name": "ipython",
    "version": 3
   },
   "file_extension": ".py",
   "mimetype": "text/x-python",
   "name": "python",
   "nbconvert_exporter": "python",
   "pygments_lexer": "ipython3",
   "version": "3.12.0"
  }
 },
 "nbformat": 4,
 "nbformat_minor": 5
}
